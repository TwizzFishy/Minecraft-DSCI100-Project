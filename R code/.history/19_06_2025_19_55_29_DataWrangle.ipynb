{
 "cells": [
  {
   "cell_type": "code",
   "execution_count": null,
   "id": "3c4a4edf-4c2b-42a7-a736-ecebd1a46689",
   "metadata": {},
   "outputs": [],
   "source": [
    "\n",
    "library(tidyverse)\n",
    "library(repr)\n",
    "library(infer)\n",
    "library(lubridate)\n",
    "\n",
    "options(repr.matrix.max.rows = 6)\n",
    "library(dplyr)\n"
   ]
  },
  {
   "cell_type": "markdown",
   "id": "96086ae6-6019-4997-a2cd-00fddd6c0c50",
   "metadata": {},
   "source": [
    "## Merge dataframe"
   ]
  },
  {
   "cell_type": "code",
   "execution_count": null,
   "id": "d63b0a89-008d-4386-9999-181849497fec",
   "metadata": {},
   "outputs": [],
   "source": [
    "players <- read_csv(\"Minecraft-DSCI100-Project/data/players.csv\")\n",
    "unclean_sessions <- read_csv(\"Minecraft-DSCI100-Project/data/sessions.csv\")\n",
    "\n",
    "\n",
    "#clean_sessions <- unclean_sessions |> separate(end_time, into = c(\"end_date\", \"end_time\"), sep = \" \") |> separate(start_time, into = c(\"start_date\", \"start_time\"), sep = \" \")\n",
    "merged_df <- left_join(unclean_sessions, players, by = \"hashedEmail\")\n",
    "glimpse(merged_df)"
   ]
  },
  {
   "cell_type": "markdown",
   "id": "8311af0d-5ee9-47dc-8a12-5c7e5a0f2e34",
   "metadata": {},
   "source": [
    "## What does the data look like?"
   ]
  },
  {
   "cell_type": "code",
   "execution_count": null,
   "id": "3fa68596-82e6-4bd5-ab42-52b8e906d9da",
   "metadata": {},
   "outputs": [],
   "source": [
    "# make an hours logged column for each observation, where an observation is a single player\n",
    "# Predictors: Play experience, hours logged, and gender\n",
    "# Response: Subscribed to news letter?\n",
    "\n",
    "gender_play_time <- merged_df |> group_by(gender) |> summarize(avg_hours = mean(played_hours))\n",
    "print(gender_play_time)\n",
    "\n",
    "#Notice, male, female, and non-binary make up a large majority of the player base. \n",
    "# For that reason they will be the only predictors\n",
    "\n",
    "filtered_df <- merged_df |>   filter(gender %in% c(\"Female\", \"Male\", \"Non-binary\"))\n"
   ]
  },
  {
   "cell_type": "markdown",
   "id": "f6e1d79c-0823-498c-b80a-8ea76ceb95fc",
   "metadata": {},
   "source": [
    "# Prep for K-NN Classification"
   ]
  },
  {
   "cell_type": "code",
   "execution_count": null,
   "id": "6bcc5c12-e1c9-4ebc-a233-a97a1eeaf8b8",
   "metadata": {},
   "outputs": [],
   "source": []
  }
 ],
 "metadata": {
  "kernelspec": {
   "display_name": "R",
   "language": "R",
   "name": "ir"
  },
  "language_info": {
   "codemirror_mode": "r",
   "file_extension": ".r",
   "mimetype": "text/x-r-source",
   "name": "R",
   "pygments_lexer": "r",
   "version": "4.3.3"
  }
 },
 "nbformat": 4,
 "nbformat_minor": 5
}
