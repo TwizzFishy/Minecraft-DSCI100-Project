{
 "cells": [
  {
   "cell_type": "code",
   "execution_count": null,
   "id": "3c4a4edf-4c2b-42a7-a736-ecebd1a46689",
   "metadata": {},
   "outputs": [],
   "source": [
    "library(patchwork)\n",
    "library(tidymodels)\n",
    "\n",
    "library(tidyverse)\n",
    "library(repr)\n",
    "library(infer)\n",
    "library(lubridate)\n",
    "\n",
    "options(repr.matrix.max.rows = 6)\n",
    "library(dplyr)\n"
   ]
  },
  {
   "cell_type": "markdown",
   "id": "96086ae6-6019-4997-a2cd-00fddd6c0c50",
   "metadata": {},
   "source": [
    "## Merge dataframe"
   ]
  },
  {
   "cell_type": "code",
   "execution_count": null,
   "id": "d63b0a89-008d-4386-9999-181849497fec",
   "metadata": {},
   "outputs": [],
   "source": [
    "set.seed(1)\n",
    "setwd(\"/home/jovyan/work/Minecraft-DSCI100-Project/R code\")\n",
    "players <- read_csv(\"data/players.csv\")\n",
    "unclean_sessions <- read_csv(\"data/sessions.csv\")\n",
    "\n",
    "merged_df <- left_join(unclean_sessions, players, by = \"hashedEmail\")\n",
    "glimpse(merged_df)"
   ]
  },
  {
   "cell_type": "markdown",
   "id": "8311af0d-5ee9-47dc-8a12-5c7e5a0f2e34",
   "metadata": {},
   "source": [
    "## What does the data look like?"
   ]
  },
  {
   "cell_type": "code",
   "execution_count": null,
   "id": "3fa68596-82e6-4bd5-ab42-52b8e906d9da",
   "metadata": {},
   "outputs": [],
   "source": [
    "set.seed(1)\n",
    "\n",
    "# make an hours logged column for each observation, where an observation is a single player\n",
    "# Predictors: Play experience, hours logged, gender, and age\n",
    "# Response: Subscribed to news letter?\n",
    "\n",
    "gender_play_time <- merged_df |> group_by(gender) |> summarize(avg_hours = mean(played_hours))\n",
    "\n",
    "#Notice, male, female, and non-binary make up a large majority of the player base. \n",
    "# For that reason they will be the only predictors\n",
    "\n",
    "final_df <- merged_df |>   filter(gender %in% c(\"Female\", \"Male\", \"Non-binary\")) |> mutate(subscribe = as_factor(subscribe))\n",
    "glimpse(final_df)"
   ]
  },
  {
   "cell_type": "code",
   "execution_count": null,
   "id": "2e666884-a979-449d-9ba0-4b02a3a56623",
   "metadata": {},
   "outputs": [],
   "source": [
    "# PLAYER TYPE\n",
    "expert_player <- filter(final_df, experience %in% c(\"Veteran\", \"Pro\"))\n",
    "noob_player <- filter(final_df, experience %in% c(\"Beginner\", \"Amateur\", \"Regular\"))\n"
   ]
  },
  {
   "cell_type": "markdown",
   "id": "f6e1d79c-0823-498c-b80a-8ea76ceb95fc",
   "metadata": {},
   "source": [
    "# Prep for K-NN Classification"
   ]
  },
  {
   "cell_type": "code",
   "execution_count": null,
   "id": "6bcc5c12-e1c9-4ebc-a233-a97a1eeaf8b8",
   "metadata": {},
   "outputs": [],
   "source": [
    "set.seed(1)\n",
    "\n",
    "pro_plot <- expert_player |> \n",
    "  ggplot(aes(x = Age, y = played_hours, color = subscribe)) +\n",
    "  geom_point(alpha = 0.5) +\n",
    "  labs(title = \"Subscription Status by Age and Play Hours\", color = \"Subscribed\") +\n",
    "  theme_minimal()\n",
    "noob_plot <- noob_player |> \n",
    "  ggplot(aes(x = Age, y = played_hours, color = subscribe)) +\n",
    "  geom_point(alpha = 0.5) +\n",
    "  labs(title = \"Subscription Status by Age and Play Hours\", color = \"Subscribed\") +\n",
    "  theme_minimal()\n",
    "\n",
    "num_obs <- nrow(final_df)\n",
    "summary <- final_df |> \n",
    "            group_by(subscribe) |>\n",
    "            summarize(count = n(), percentage = n() / num_obs *100)\n",
    "(pro_plot / noob_plot ) +\n",
    "  plot_layout(guides = \"collect\") & theme(legend.position = \"bottom\")"
   ]
  },
  {
   "cell_type": "code",
   "execution_count": null,
   "id": "5c3c984a-8b00-4fd3-bc4a-c8f9f7d14068",
   "metadata": {},
   "outputs": [],
   "source": [
    "set.seed(1)\n",
    "\n",
    "pro_train <- final_df |> select(subscribe, Age, played_hours)\n",
    "\n",
    "# PRO\n",
    "pro_split <- initial_split(pro_train, prop = 0.75, strata = subscribe)\n",
    "pro_train <- training(pro_split)\n",
    "pro_test <- testing(pro_split)\n",
    "\n",
    "\n",
    "train_prop <- pro_train |>\n",
    "            group_by(subscribe) |>\n",
    "            summarize(n = n()) |>\n",
    "            mutate(percent = 100* n/nrow(pro_train))\n",
    "train_prop\n",
    "\n",
    "sub_recipe <- recipe(subscribe ~., data = pro_train) |>\n",
    "            step_scale(all_predictors())|>\n",
    "            step_center(all_predictors())\n",
    "\n",
    "knn_spec <- nearest_neighbor(weight_func = \"rectangular\", neighbors = 6) |>\n",
    "            set_engine(\"kknn\") |>\n",
    "            set_mode(\"classification\")\n",
    "\n",
    "knn_fit <- workflow() |>\n",
    "            add_recipe(sub_recipe) |>\n",
    "            add_model(knn_spec) |>\n",
    "            fit(data = pro_train)\n",
    "sub_test_predict <- predict(knn_fit, pro_test) |>\n",
    "                    bind_cols(pro_test)  \n",
    "metrics <- sub_test_predict |> \n",
    "            metrics(truth = subscribe, estimate = .pred_class) |>\n",
    "                    filter(.metric == \"accuracy\")\n",
    "metrics\n",
    "confusion <- sub_test_predict |>\n",
    "             conf_mat(truth = subscribe, estimate = .pred_class)\n",
    "confusion\n",
    "\n",
    "recall <- sub_test_predict |> recall(truth = subscribe, estimate = .pred_class, event_level = \"first\") |> pull()\n",
    "precision <- sub_test_predict |> precision(truth = subscribe, estimate = .pred_class, event_level = \"first\") |> pull()\n",
    "\n",
    "recall\n",
    "precision\n",
    "# at k = 3 we have very high recall and precision \n",
    "# This is a very good sign in that our model will be very accurate, now lets tune the model"
   ]
  },
  {
   "cell_type": "markdown",
   "id": "92a9fc16-e48d-4f0a-b81c-faac85513685",
   "metadata": {},
   "source": [
    "## Tune our model"
   ]
  },
  {
   "cell_type": "code",
   "execution_count": null,
   "id": "fb3dc9b1-34f2-425d-b408-e0c0f577cc97",
   "metadata": {},
   "outputs": [],
   "source": [
    "set.seed(1)\n",
    "\n",
    "# recreate the standardization recipe from before\n",
    "# (since it must be based on the training data)\n",
    "sub_fold <- vfold_cv(pro_train, v = 5, strata = subscribe)\n",
    "\n",
    "knn_spec <- nearest_neighbor(\n",
    "    weight_func = \"rectangular\",\n",
    "    neighbors = tune()) |>\n",
    "  set_engine(\"kknn\") |>\n",
    "  set_mode(\"classification\")\n",
    "\n",
    "k_vals <- tibble(neighbors = seq(from = 1, to = 100, by = 5))  \n",
    "\n",
    "# fit the knn model (we can reuse the old knn_spec model from before)\n",
    "knn_results <- workflow() |>\n",
    "  add_recipe(sub_recipe) |>\n",
    "  add_model(knn_spec) |>\n",
    "  tune_grid(resamples = sub_fold, grid = k_vals) |>\n",
    "  collect_metrics()\n",
    "accuracies <- knn_results |>\n",
    "  filter(.metric == \"accuracy\")\n",
    "\n",
    "k_plot <- accuracies |> ggplot(aes(x = neighbors, y = mean)) +\n",
    "                        geom_point() +\n",
    "                        geom_line() +\n",
    "                        ggtitle(\"accuracy vs k\")"
   ]
  },
  {
   "cell_type": "code",
   "execution_count": null,
   "id": "61e7b0fe-2a31-4c87-9ee8-081db2fde1dd",
   "metadata": {},
   "outputs": [],
   "source": [
    "k_plot\n",
    "best_k <- accuracies |> arrange(-mean) \n",
    "print(best_k)"
   ]
  },
  {
   "cell_type": "markdown",
   "id": "cee5ba4c-b391-4f60-b0bc-903a85b3dfac",
   "metadata": {},
   "source": [
    "## How does our model perform\n",
    "- best k = 6\n",
    "- recall = 0.773\n",
    "- precision = 0.773\n",
    "\n",
    "\n"
   ]
  },
  {
   "cell_type": "markdown",
   "id": "d31bfd7a-9d69-4278-b9cc-f0aa226ea145",
   "metadata": {},
   "source": []
  },
  {
   "cell_type": "code",
   "execution_count": null,
   "id": "742c5523-519e-4944-879b-281d91eaf6b9",
   "metadata": {},
   "outputs": [],
   "source": []
  },
  {
   "cell_type": "code",
   "execution_count": null,
   "id": "8d804610-3e03-4901-ad15-853a906d75e3",
   "metadata": {},
   "outputs": [],
   "source": [
    "glimpse(final_df)"
   ]
  },
  {
   "cell_type": "code",
   "execution_count": null,
   "id": "09fa70fb-e46a-4ac8-903f-654f28ebe5db",
   "metadata": {},
   "outputs": [],
   "source": []
  }
 ],
 "metadata": {
  "kernelspec": {
   "display_name": "R",
   "language": "R",
   "name": "ir"
  },
  "language_info": {
   "codemirror_mode": "r",
   "file_extension": ".r",
   "mimetype": "text/x-r-source",
   "name": "R",
   "pygments_lexer": "r",
   "version": "4.3.3"
  }
 },
 "nbformat": 4,
 "nbformat_minor": 5
}
