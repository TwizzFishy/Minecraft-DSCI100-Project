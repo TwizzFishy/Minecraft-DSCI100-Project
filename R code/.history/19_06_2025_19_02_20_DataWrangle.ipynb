{
 "cells": [
  {
   "cell_type": "code",
   "execution_count": null,
   "id": "3c4a4edf-4c2b-42a7-a736-ecebd1a46689",
   "metadata": {},
   "outputs": [],
   "source": [
    "install.packages(\"here\")\n",
    "\n",
    "library(tidyverse)\n",
    "library(repr)\n",
    "library(infer)\n",
    "options(repr.matrix.max.rows = 6)\n",
    "library(here)"
   ]
  },
  {
   "cell_type": "code",
   "execution_count": null,
   "id": "d63b0a89-008d-4386-9999-181849497fec",
   "metadata": {},
   "outputs": [],
   "source": [
    "\n",
    "unclean_players <- read_csv(here(\"data\", \"players.csv\"))\n",
    "unclear_players"
   ]
  },
  {
   "cell_type": "code",
   "execution_count": null,
   "id": "650e585b-8f3c-433c-9469-9e2b89160ada",
   "metadata": {},
   "outputs": [],
   "source": []
  }
 ],
 "metadata": {
  "kernelspec": {
   "display_name": "R",
   "language": "R",
   "name": "ir"
  },
  "language_info": {
   "codemirror_mode": "r",
   "file_extension": ".r",
   "mimetype": "text/x-r-source",
   "name": "R",
   "pygments_lexer": "r",
   "version": "4.3.3"
  }
 },
 "nbformat": 4,
 "nbformat_minor": 5
}
