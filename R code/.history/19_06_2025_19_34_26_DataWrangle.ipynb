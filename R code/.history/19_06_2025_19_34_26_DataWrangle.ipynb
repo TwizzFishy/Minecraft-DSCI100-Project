{
 "cells": [
  {
   "cell_type": "code",
   "execution_count": null,
   "id": "3c4a4edf-4c2b-42a7-a736-ecebd1a46689",
   "metadata": {},
   "outputs": [],
   "source": [
    "\n",
    "library(tidyverse)\n",
    "library(repr)\n",
    "library(infer)\n",
    "library(lubridate)\n",
    "\n",
    "options(repr.matrix.max.rows = 6)\n",
    "library(dplyr)\n"
   ]
  },
  {
   "cell_type": "markdown",
   "id": "96086ae6-6019-4997-a2cd-00fddd6c0c50",
   "metadata": {},
   "source": [
    "## Merge dataframe"
   ]
  },
  {
   "cell_type": "code",
   "execution_count": null,
   "id": "d63b0a89-008d-4386-9999-181849497fec",
   "metadata": {},
   "outputs": [],
   "source": [
    "players <- read_csv(\"Minecraft-DSCI100-Project/data/players.csv\")\n",
    "unclean_sessions <- read_csv(\"Minecraft-DSCI100-Project/data/sessions.csv\")\n",
    "\n",
    "\n",
    "#clean_sessions <- unclean_sessions |> separate(end_time, into = c(\"end_date\", \"end_time\"), sep = \" \") |> separate(start_time, into = c(\"start_date\", \"start_time\"), sep = \" \")\n",
    "merged_df <- left_join(unclean_sessions, players, by = \"hashedEmail\")\n",
    "glimpse(merged_df)"
   ]
  },
  {
   "cell_type": "markdown",
   "id": "8311af0d-5ee9-47dc-8a12-5c7e5a0f2e34",
   "metadata": {},
   "source": [
    "## Prep data for K-NN classification model"
   ]
  },
  {
   "cell_type": "code",
   "execution_count": null,
   "id": "3fa68596-82e6-4bd5-ab42-52b8e906d9da",
   "metadata": {},
   "outputs": [],
   "source": [
    "# make an hours logged column for each observation, where an observation is a single player\n",
    "\n",
    "sessions_total <- merged_df |>\n",
    "  mutate(session_duration_hrs = (original_end_time - original_start_time) / (1000 * 60 * 60)) |>\n",
    "  group_by(hashedEmail) |>\n",
    "  summarise(total_hours_logged = sum(session_duration_hrs, na.rm = TRUE))\n",
    "sessions_total\n",
    "clean_data <- merged_df |>\n",
    "  left_join(sessions_total, by = \"hashedEmail\")\n",
    "cle"
   ]
  },
  {
   "cell_type": "code",
   "execution_count": null,
   "id": "6bcc5c12-e1c9-4ebc-a233-a97a1eeaf8b8",
   "metadata": {},
   "outputs": [],
   "source": []
  }
 ],
 "metadata": {
  "kernelspec": {
   "display_name": "R",
   "language": "R",
   "name": "ir"
  },
  "language_info": {
   "codemirror_mode": "r",
   "file_extension": ".r",
   "mimetype": "text/x-r-source",
   "name": "R",
   "pygments_lexer": "r",
   "version": "4.3.3"
  }
 },
 "nbformat": 4,
 "nbformat_minor": 5
}
